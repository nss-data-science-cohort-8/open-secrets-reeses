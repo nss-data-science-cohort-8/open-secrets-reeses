{
 "cells": [
  {
   "cell_type": "code",
   "execution_count": 1,
   "id": "bd2c2c41-9dd2-4146-87ae-bef9908d8771",
   "metadata": {},
   "outputs": [],
   "source": [
    "import requests\n",
    "import pandas as pd\n",
    "from bs4 import BeautifulSoup\n",
    "from IPython.core.display import HTML\n",
    "import io\n",
    "import re\n",
    "import regex\n",
    "import csv\n",
    "from datetime import datetime as dt\n",
    "import urllib3\n",
    "# import re2\n"
   ]
  },
  {
   "cell_type": "code",
   "execution_count": 2,
   "id": "79e0e01b-2867-4895-b3d3-d142f3d7adb3",
   "metadata": {},
   "outputs": [
    {
     "data": {
      "text/html": [
       "<div>\n",
       "<style scoped>\n",
       "    .dataframe tbody tr th:only-of-type {\n",
       "        vertical-align: middle;\n",
       "    }\n",
       "\n",
       "    .dataframe tbody tr th {\n",
       "        vertical-align: top;\n",
       "    }\n",
       "\n",
       "    .dataframe thead th {\n",
       "        text-align: right;\n",
       "    }\n",
       "</style>\n",
       "<table border=\"1\" class=\"dataframe\">\n",
       "  <thead>\n",
       "    <tr style=\"text-align: right;\">\n",
       "      <th></th>\n",
       "      <th>cid</th>\n",
       "      <th>FirstLastP</th>\n",
       "      <th>Rcpts</th>\n",
       "      <th>Spent</th>\n",
       "      <th>PACs</th>\n",
       "      <th>Indivs</th>\n",
       "      <th>Cand</th>\n",
       "      <th>Other</th>\n",
       "      <th>EndCash</th>\n",
       "      <th>LgIndivs</th>\n",
       "      <th>...</th>\n",
       "      <th>Result</th>\n",
       "      <th>CRPICO</th>\n",
       "      <th>State</th>\n",
       "      <th>IncCID</th>\n",
       "      <th>Incumbent</th>\n",
       "      <th>primarydate</th>\n",
       "      <th>DistIDCurr</th>\n",
       "      <th>capeye</th>\n",
       "      <th>sort</th>\n",
       "      <th>SmLgIndivsNote</th>\n",
       "    </tr>\n",
       "  </thead>\n",
       "  <tbody>\n",
       "    <tr>\n",
       "      <th>0</th>\n",
       "      <td>N00041873</td>\n",
       "      <td>Mark Green (R)</td>\n",
       "      <td>1194960.47</td>\n",
       "      <td>935486.67</td>\n",
       "      <td>171900.0</td>\n",
       "      <td>819151.42</td>\n",
       "      <td>0.0</td>\n",
       "      <td>203909.05</td>\n",
       "      <td>287888.55</td>\n",
       "      <td>819151.42</td>\n",
       "      <td>...</td>\n",
       "      <td>W</td>\n",
       "      <td>I</td>\n",
       "      <td>Tennessee</td>\n",
       "      <td>NaN</td>\n",
       "      <td>NaN</td>\n",
       "      <td>2020-08-06 00:00:00 +0000</td>\n",
       "      <td>TN07</td>\n",
       "      <td>0</td>\n",
       "      <td>1</td>\n",
       "      <td>N</td>\n",
       "    </tr>\n",
       "    <tr>\n",
       "      <th>1</th>\n",
       "      <td>N00045536</td>\n",
       "      <td>Kiran Sreepada (D)</td>\n",
       "      <td>206644.28</td>\n",
       "      <td>207190.98</td>\n",
       "      <td>4000.0</td>\n",
       "      <td>202644.28</td>\n",
       "      <td>0.0</td>\n",
       "      <td>0.00</td>\n",
       "      <td>0.00</td>\n",
       "      <td>179129.75</td>\n",
       "      <td>...</td>\n",
       "      <td>L</td>\n",
       "      <td>C</td>\n",
       "      <td>Tennessee</td>\n",
       "      <td>NaN</td>\n",
       "      <td>NaN</td>\n",
       "      <td>2020-08-06 00:00:00 +0000</td>\n",
       "      <td></td>\n",
       "      <td>0</td>\n",
       "      <td>2</td>\n",
       "      <td>N</td>\n",
       "    </tr>\n",
       "  </tbody>\n",
       "</table>\n",
       "<p>2 rows × 24 columns</p>\n",
       "</div>"
      ],
      "text/plain": [
       "         cid          FirstLastP       Rcpts      Spent      PACs     Indivs  \\\n",
       "0  N00041873      Mark Green (R)  1194960.47  935486.67  171900.0  819151.42   \n",
       "1  N00045536  Kiran Sreepada (D)   206644.28  207190.98    4000.0  202644.28   \n",
       "\n",
       "   Cand      Other    EndCash   LgIndivs  ...  Result CRPICO      State  \\\n",
       "0   0.0  203909.05  287888.55  819151.42  ...       W      I  Tennessee   \n",
       "1   0.0       0.00       0.00  179129.75  ...       L      C  Tennessee   \n",
       "\n",
       "   IncCID Incumbent                primarydate DistIDCurr  capeye  sort  \\\n",
       "0     NaN       NaN  2020-08-06 00:00:00 +0000       TN07       0     1   \n",
       "1     NaN       NaN  2020-08-06 00:00:00 +0000                  0     2   \n",
       "\n",
       "  SmLgIndivsNote  \n",
       "0              N  \n",
       "1              N  \n",
       "\n",
       "[2 rows x 24 columns]"
      ]
     },
     "execution_count": 2,
     "metadata": {},
     "output_type": "execute_result"
    }
   ],
   "source": [
    "url = 'https://www.opensecrets.org/races/summary.csv?cycle=2020&id=TN07'\n",
    "\n",
    "r = requests.get(url)\n",
    "data = r.content.decode('utf8')\n",
    "df = pd.read_csv(io.StringIO(data))\n",
    "df.head(2)"
   ]
  },
  {
   "cell_type": "code",
   "execution_count": 3,
   "id": "a1bfb1d5-29df-4cc1-aacd-16183b035726",
   "metadata": {},
   "outputs": [
    {
     "data": {
      "text/html": [
       "<div>\n",
       "<style scoped>\n",
       "    .dataframe tbody tr th:only-of-type {\n",
       "        vertical-align: middle;\n",
       "    }\n",
       "\n",
       "    .dataframe tbody tr th {\n",
       "        vertical-align: top;\n",
       "    }\n",
       "\n",
       "    .dataframe thead th {\n",
       "        text-align: right;\n",
       "    }\n",
       "</style>\n",
       "<table border=\"1\" class=\"dataframe\">\n",
       "  <thead>\n",
       "    <tr style=\"text-align: right;\">\n",
       "      <th></th>\n",
       "      <th>cid</th>\n",
       "      <th>FirstLastP</th>\n",
       "      <th>Rcpts</th>\n",
       "      <th>Spent</th>\n",
       "      <th>PACs</th>\n",
       "      <th>Indivs</th>\n",
       "      <th>Cand</th>\n",
       "      <th>Other</th>\n",
       "      <th>EndCash</th>\n",
       "      <th>LgIndivs</th>\n",
       "      <th>...</th>\n",
       "      <th>Result</th>\n",
       "      <th>CRPICO</th>\n",
       "      <th>State</th>\n",
       "      <th>IncCID</th>\n",
       "      <th>Incumbent</th>\n",
       "      <th>primarydate</th>\n",
       "      <th>DistIDCurr</th>\n",
       "      <th>capeye</th>\n",
       "      <th>sort</th>\n",
       "      <th>SmLgIndivsNote</th>\n",
       "    </tr>\n",
       "  </thead>\n",
       "  <tbody>\n",
       "    <tr>\n",
       "      <th>0</th>\n",
       "      <td>N00046688</td>\n",
       "      <td>Diana Harshbarger (R)</td>\n",
       "      <td>2126945.60</td>\n",
       "      <td>1869099.77</td>\n",
       "      <td>222800.0</td>\n",
       "      <td>359728.50</td>\n",
       "      <td>1461293.0</td>\n",
       "      <td>83124.1</td>\n",
       "      <td>257845.83</td>\n",
       "      <td>315489.1</td>\n",
       "      <td>...</td>\n",
       "      <td>W</td>\n",
       "      <td>O</td>\n",
       "      <td>Tennessee</td>\n",
       "      <td>NaN</td>\n",
       "      <td>NaN</td>\n",
       "      <td>2020-08-06 00:00:00 +0000</td>\n",
       "      <td></td>\n",
       "      <td>0</td>\n",
       "      <td>2</td>\n",
       "      <td>N</td>\n",
       "    </tr>\n",
       "    <tr>\n",
       "      <th>1</th>\n",
       "      <td>N00046686</td>\n",
       "      <td>Blair Nicole Walsingham (D)</td>\n",
       "      <td>140209.14</td>\n",
       "      <td>134994.55</td>\n",
       "      <td>1520.0</td>\n",
       "      <td>138689.14</td>\n",
       "      <td>0.0</td>\n",
       "      <td>0.0</td>\n",
       "      <td>5214.59</td>\n",
       "      <td>70085.2</td>\n",
       "      <td>...</td>\n",
       "      <td>L</td>\n",
       "      <td>O</td>\n",
       "      <td>Tennessee</td>\n",
       "      <td>NaN</td>\n",
       "      <td>NaN</td>\n",
       "      <td>2020-08-06 00:00:00 +0000</td>\n",
       "      <td></td>\n",
       "      <td>0</td>\n",
       "      <td>2</td>\n",
       "      <td>N</td>\n",
       "    </tr>\n",
       "  </tbody>\n",
       "</table>\n",
       "<p>2 rows × 24 columns</p>\n",
       "</div>"
      ],
      "text/plain": [
       "         cid                   FirstLastP       Rcpts       Spent      PACs  \\\n",
       "0  N00046688        Diana Harshbarger (R)  2126945.60  1869099.77  222800.0   \n",
       "1  N00046686  Blair Nicole Walsingham (D)   140209.14   134994.55    1520.0   \n",
       "\n",
       "      Indivs       Cand    Other    EndCash  LgIndivs  ...  Result CRPICO  \\\n",
       "0  359728.50  1461293.0  83124.1  257845.83  315489.1  ...       W      O   \n",
       "1  138689.14        0.0      0.0    5214.59   70085.2  ...       L      O   \n",
       "\n",
       "       State  IncCID Incumbent                primarydate DistIDCurr  capeye  \\\n",
       "0  Tennessee     NaN       NaN  2020-08-06 00:00:00 +0000                  0   \n",
       "1  Tennessee     NaN       NaN  2020-08-06 00:00:00 +0000                  0   \n",
       "\n",
       "   sort SmLgIndivsNote  \n",
       "0     2              N  \n",
       "1     2              N  \n",
       "\n",
       "[2 rows x 24 columns]"
      ]
     },
     "execution_count": 3,
     "metadata": {},
     "output_type": "execute_result"
    }
   ],
   "source": [
    "dist_01 = 'https://www.opensecrets.org/races/summary.csv?cycle=2020&id=TN01'\n",
    "\n",
    "r = requests.get(dist_01)\n",
    "data = r.content.decode('utf8')\n",
    "df = pd.read_csv(io.StringIO(data))\n",
    "df.head(2)"
   ]
  },
  {
   "cell_type": "code",
   "execution_count": 4,
   "id": "17ba4498-546c-4870-abf0-b1766d333f7b",
   "metadata": {},
   "outputs": [
    {
     "data": {
      "text/plain": [
       "<Response [200]>"
      ]
     },
     "execution_count": 4,
     "metadata": {},
     "output_type": "execute_result"
    }
   ],
   "source": [
    "r"
   ]
  },
  {
   "cell_type": "code",
   "execution_count": null,
   "id": "78385f35-0b49-4bb4-9672-af24283bc728",
   "metadata": {},
   "outputs": [],
   "source": []
  },
  {
   "cell_type": "code",
   "execution_count": null,
   "id": "bfb3339e-51b9-4356-b491-a56512c18277",
   "metadata": {},
   "outputs": [],
   "source": []
  },
  {
   "cell_type": "code",
   "execution_count": null,
   "id": "accd4054-9162-432b-9220-ed518e9ab018",
   "metadata": {},
   "outputs": [],
   "source": []
  },
  {
   "cell_type": "code",
   "execution_count": 5,
   "id": "3d076567-9e92-4e23-827f-65d2da850b34",
   "metadata": {},
   "outputs": [
    {
     "ename": "EmptyDataError",
     "evalue": "No columns to parse from file",
     "output_type": "error",
     "traceback": [
      "\u001b[1;31m---------------------------------------------------------------------------\u001b[0m",
      "\u001b[1;31mEmptyDataError\u001b[0m                            Traceback (most recent call last)",
      "Cell \u001b[1;32mIn[5], line 5\u001b[0m\n\u001b[0;32m      3\u001b[0m r \u001b[38;5;241m=\u001b[39m requests\u001b[38;5;241m.\u001b[39mget(dist_11)\n\u001b[0;32m      4\u001b[0m data \u001b[38;5;241m=\u001b[39m r\u001b[38;5;241m.\u001b[39mcontent\u001b[38;5;241m.\u001b[39mdecode(\u001b[38;5;124m'\u001b[39m\u001b[38;5;124mutf8\u001b[39m\u001b[38;5;124m'\u001b[39m)\n\u001b[1;32m----> 5\u001b[0m df \u001b[38;5;241m=\u001b[39m pd\u001b[38;5;241m.\u001b[39mread_csv(io\u001b[38;5;241m.\u001b[39mStringIO(data))\n\u001b[0;32m      6\u001b[0m df\u001b[38;5;241m.\u001b[39mhead(\u001b[38;5;241m2\u001b[39m)\n",
      "File \u001b[1;32m~\\anaconda3\\Lib\\site-packages\\pandas\\io\\parsers\\readers.py:1026\u001b[0m, in \u001b[0;36mread_csv\u001b[1;34m(filepath_or_buffer, sep, delimiter, header, names, index_col, usecols, dtype, engine, converters, true_values, false_values, skipinitialspace, skiprows, skipfooter, nrows, na_values, keep_default_na, na_filter, verbose, skip_blank_lines, parse_dates, infer_datetime_format, keep_date_col, date_parser, date_format, dayfirst, cache_dates, iterator, chunksize, compression, thousands, decimal, lineterminator, quotechar, quoting, doublequote, escapechar, comment, encoding, encoding_errors, dialect, on_bad_lines, delim_whitespace, low_memory, memory_map, float_precision, storage_options, dtype_backend)\u001b[0m\n\u001b[0;32m   1013\u001b[0m kwds_defaults \u001b[38;5;241m=\u001b[39m _refine_defaults_read(\n\u001b[0;32m   1014\u001b[0m     dialect,\n\u001b[0;32m   1015\u001b[0m     delimiter,\n\u001b[1;32m   (...)\u001b[0m\n\u001b[0;32m   1022\u001b[0m     dtype_backend\u001b[38;5;241m=\u001b[39mdtype_backend,\n\u001b[0;32m   1023\u001b[0m )\n\u001b[0;32m   1024\u001b[0m kwds\u001b[38;5;241m.\u001b[39mupdate(kwds_defaults)\n\u001b[1;32m-> 1026\u001b[0m \u001b[38;5;28;01mreturn\u001b[39;00m _read(filepath_or_buffer, kwds)\n",
      "File \u001b[1;32m~\\anaconda3\\Lib\\site-packages\\pandas\\io\\parsers\\readers.py:620\u001b[0m, in \u001b[0;36m_read\u001b[1;34m(filepath_or_buffer, kwds)\u001b[0m\n\u001b[0;32m    617\u001b[0m _validate_names(kwds\u001b[38;5;241m.\u001b[39mget(\u001b[38;5;124m\"\u001b[39m\u001b[38;5;124mnames\u001b[39m\u001b[38;5;124m\"\u001b[39m, \u001b[38;5;28;01mNone\u001b[39;00m))\n\u001b[0;32m    619\u001b[0m \u001b[38;5;66;03m# Create the parser.\u001b[39;00m\n\u001b[1;32m--> 620\u001b[0m parser \u001b[38;5;241m=\u001b[39m TextFileReader(filepath_or_buffer, \u001b[38;5;241m*\u001b[39m\u001b[38;5;241m*\u001b[39mkwds)\n\u001b[0;32m    622\u001b[0m \u001b[38;5;28;01mif\u001b[39;00m chunksize \u001b[38;5;129;01mor\u001b[39;00m iterator:\n\u001b[0;32m    623\u001b[0m     \u001b[38;5;28;01mreturn\u001b[39;00m parser\n",
      "File \u001b[1;32m~\\anaconda3\\Lib\\site-packages\\pandas\\io\\parsers\\readers.py:1620\u001b[0m, in \u001b[0;36mTextFileReader.__init__\u001b[1;34m(self, f, engine, **kwds)\u001b[0m\n\u001b[0;32m   1617\u001b[0m     \u001b[38;5;28mself\u001b[39m\u001b[38;5;241m.\u001b[39moptions[\u001b[38;5;124m\"\u001b[39m\u001b[38;5;124mhas_index_names\u001b[39m\u001b[38;5;124m\"\u001b[39m] \u001b[38;5;241m=\u001b[39m kwds[\u001b[38;5;124m\"\u001b[39m\u001b[38;5;124mhas_index_names\u001b[39m\u001b[38;5;124m\"\u001b[39m]\n\u001b[0;32m   1619\u001b[0m \u001b[38;5;28mself\u001b[39m\u001b[38;5;241m.\u001b[39mhandles: IOHandles \u001b[38;5;241m|\u001b[39m \u001b[38;5;28;01mNone\u001b[39;00m \u001b[38;5;241m=\u001b[39m \u001b[38;5;28;01mNone\u001b[39;00m\n\u001b[1;32m-> 1620\u001b[0m \u001b[38;5;28mself\u001b[39m\u001b[38;5;241m.\u001b[39m_engine \u001b[38;5;241m=\u001b[39m \u001b[38;5;28mself\u001b[39m\u001b[38;5;241m.\u001b[39m_make_engine(f, \u001b[38;5;28mself\u001b[39m\u001b[38;5;241m.\u001b[39mengine)\n",
      "File \u001b[1;32m~\\anaconda3\\Lib\\site-packages\\pandas\\io\\parsers\\readers.py:1898\u001b[0m, in \u001b[0;36mTextFileReader._make_engine\u001b[1;34m(self, f, engine)\u001b[0m\n\u001b[0;32m   1895\u001b[0m     \u001b[38;5;28;01mraise\u001b[39;00m \u001b[38;5;167;01mValueError\u001b[39;00m(msg)\n\u001b[0;32m   1897\u001b[0m \u001b[38;5;28;01mtry\u001b[39;00m:\n\u001b[1;32m-> 1898\u001b[0m     \u001b[38;5;28;01mreturn\u001b[39;00m mapping[engine](f, \u001b[38;5;241m*\u001b[39m\u001b[38;5;241m*\u001b[39m\u001b[38;5;28mself\u001b[39m\u001b[38;5;241m.\u001b[39moptions)\n\u001b[0;32m   1899\u001b[0m \u001b[38;5;28;01mexcept\u001b[39;00m \u001b[38;5;167;01mException\u001b[39;00m:\n\u001b[0;32m   1900\u001b[0m     \u001b[38;5;28;01mif\u001b[39;00m \u001b[38;5;28mself\u001b[39m\u001b[38;5;241m.\u001b[39mhandles \u001b[38;5;129;01mis\u001b[39;00m \u001b[38;5;129;01mnot\u001b[39;00m \u001b[38;5;28;01mNone\u001b[39;00m:\n",
      "File \u001b[1;32m~\\anaconda3\\Lib\\site-packages\\pandas\\io\\parsers\\c_parser_wrapper.py:93\u001b[0m, in \u001b[0;36mCParserWrapper.__init__\u001b[1;34m(self, src, **kwds)\u001b[0m\n\u001b[0;32m     90\u001b[0m \u001b[38;5;28;01mif\u001b[39;00m kwds[\u001b[38;5;124m\"\u001b[39m\u001b[38;5;124mdtype_backend\u001b[39m\u001b[38;5;124m\"\u001b[39m] \u001b[38;5;241m==\u001b[39m \u001b[38;5;124m\"\u001b[39m\u001b[38;5;124mpyarrow\u001b[39m\u001b[38;5;124m\"\u001b[39m:\n\u001b[0;32m     91\u001b[0m     \u001b[38;5;66;03m# Fail here loudly instead of in cython after reading\u001b[39;00m\n\u001b[0;32m     92\u001b[0m     import_optional_dependency(\u001b[38;5;124m\"\u001b[39m\u001b[38;5;124mpyarrow\u001b[39m\u001b[38;5;124m\"\u001b[39m)\n\u001b[1;32m---> 93\u001b[0m \u001b[38;5;28mself\u001b[39m\u001b[38;5;241m.\u001b[39m_reader \u001b[38;5;241m=\u001b[39m parsers\u001b[38;5;241m.\u001b[39mTextReader(src, \u001b[38;5;241m*\u001b[39m\u001b[38;5;241m*\u001b[39mkwds)\n\u001b[0;32m     95\u001b[0m \u001b[38;5;28mself\u001b[39m\u001b[38;5;241m.\u001b[39munnamed_cols \u001b[38;5;241m=\u001b[39m \u001b[38;5;28mself\u001b[39m\u001b[38;5;241m.\u001b[39m_reader\u001b[38;5;241m.\u001b[39munnamed_cols\n\u001b[0;32m     97\u001b[0m \u001b[38;5;66;03m# error: Cannot determine type of 'names'\u001b[39;00m\n",
      "File \u001b[1;32mparsers.pyx:581\u001b[0m, in \u001b[0;36mpandas._libs.parsers.TextReader.__cinit__\u001b[1;34m()\u001b[0m\n",
      "\u001b[1;31mEmptyDataError\u001b[0m: No columns to parse from file"
     ]
    }
   ],
   "source": [
    "dist_11 = 'https://www.opensecrets.org/races/summary.csv?cycle=2020&id=TN11'\n",
    "\n",
    "r = requests.get(dist_11)\n",
    "data = r.content.decode('utf8')\n",
    "df = pd.read_csv(io.StringIO(data))\n",
    "df.head(2)\n",
    "#try and accept running into an EmptyDataError - then fail gracefully"
   ]
  },
  {
   "cell_type": "code",
   "execution_count": 6,
   "id": "565a2c22-f7ca-42fe-a913-7c6ce7f803f2",
   "metadata": {},
   "outputs": [
    {
     "data": {
      "text/plain": [
       "<Response [200]>"
      ]
     },
     "execution_count": 6,
     "metadata": {},
     "output_type": "execute_result"
    }
   ],
   "source": [
    "r"
   ]
  },
  {
   "cell_type": "code",
   "execution_count": null,
   "id": "1dc4d519-da84-4e04-9341-b203681d28e1",
   "metadata": {},
   "outputs": [],
   "source": [
    "def pull_down_links(url):\n",
    "    r = requests.get(url)\n",
    "    data = r.content.decode('utf8')\n",
    "    df = pd.read_csv(io.StringIO(data))\n",
    "    return df\n",
    "pull_down_links(url)"
   ]
  },
  {
   "cell_type": "code",
   "execution_count": null,
   "id": "61eb49e3-0546-4e1c-9428-38405b764cf0",
   "metadata": {},
   "outputs": [],
   "source": [
    "#for link in soup.findAll('a', attrs={'href': re.compile(r'\\/races\\/summary\\?cycle=2020&id=TN\\d{2}&spec=N')}):\n",
    "#    links.append(link.get('href'))"
   ]
  },
  {
   "cell_type": "code",
   "execution_count": null,
   "id": "50340124-5d91-4b03-a919-65166d5853a1",
   "metadata": {},
   "outputs": [],
   "source": [
    "#def getLinks(url):\n",
    "#    html_page = requests.get(url)\n",
    "#    soup = BeautifulSoup(html_page.text)\n",
    "#   links = []\n",
    "\n",
    "#    for link in soup.findAll('a', attrs={'href': re.compile(r'\\/races\\/summary\\?cycle=2020&id=TN\\d{2}&spec=N')}):\n",
    "#        links.append(link.get('href'))\n",
    "\n",
    "#    return links\n",
    "#getLinks(url)"
   ]
  },
  {
   "cell_type": "code",
   "execution_count": null,
   "id": "b5df34a5-4cb9-43c2-a8f6-b2de155a177c",
   "metadata": {},
   "outputs": [],
   "source": [
    "#state_abbr = [\n",
    "#  'AL', 'AK', 'AZ', 'AR', 'CA', 'CO', 'CT', 'DE', 'FL','GA',\n",
    "#  'HI', 'ID', 'IL', 'IN', 'IA', 'KS', 'KY', 'LA', 'ME','MD',\n",
    "#  'MA', 'MI', 'MN', 'MS', 'MO', 'MT', 'NE', 'NV', 'NH' ,'NJ',\n",
    "#  'NM', 'NY', 'NC', 'ND', 'OH', 'OK', 'OR', 'PA', 'RI', 'SC',\n",
    "#  'SD', 'TN', 'TX', 'UT', 'VT', 'VA', 'WA', 'WV', 'WI', 'WY',\n",
    "# ]"
   ]
  },
  {
   "cell_type": "code",
   "execution_count": null,
   "id": "11bf6035-95dc-4862-9e38-a164d7ed3523",
   "metadata": {},
   "outputs": [],
   "source": [
    "#state_list = []\n",
    "#district_list = []\n",
    "\n",
    "#for state in state_abbr:\n",
    "#     URL_State = f'https://www.opensecrets.org/races/summary.csv?cycle=2020&id={state}{}'\n",
    "      \n",
    "     # state_list.append(URL_State)\n",
    " \n",
    "\n",
    "     # for URL2 in state_list:\n",
    "#     links2 = getLinks(URL_State)\n",
    "#     district_list.extend(links2)"
   ]
  },
  {
   "cell_type": "code",
   "execution_count": null,
   "id": "c9bd976f-3807-4046-b2ec-a2fa64f75e37",
   "metadata": {},
   "outputs": [],
   "source": [
    "#ef getLinks(url):\n",
    "#    r = requests.get(url)\n",
    "#    data = r.content.decode('utf8')\n",
    "#    df = pd.read_csv(io.StringIO(data))\n",
    "#    df\n",
    "#    links = []\n",
    "#    for link in r.findAll('a', attrs={'href': re.compile(r'\\/races\\/summary\\?cycle=2020&id=\\w{2}\\d{2}&spec=N')}):\n",
    "#        links.append(link.get('href'))\n",
    "\n",
    "#    return links\n",
    "#getLinks"
   ]
  },
  {
   "cell_type": "code",
   "execution_count": null,
   "id": "51d68988-ca61-40e4-836d-880b2f0712fc",
   "metadata": {},
   "outputs": [],
   "source": []
  },
  {
   "cell_type": "code",
   "execution_count": null,
   "id": "63ccaa8c-9d09-46b5-9087-74b36336ac63",
   "metadata": {},
   "outputs": [],
   "source": []
  },
  {
   "cell_type": "code",
   "execution_count": null,
   "id": "5e3c2a92-e0c5-44ab-84ae-8985c7ab44bb",
   "metadata": {},
   "outputs": [],
   "source": []
  },
  {
   "cell_type": "code",
   "execution_count": null,
   "id": "4f9a4276-0359-4ac4-9e03-05fd43f27419",
   "metadata": {},
   "outputs": [],
   "source": []
  },
  {
   "cell_type": "code",
   "execution_count": null,
   "id": "3f139979-bdc3-44b5-acd8-a729a8bb326b",
   "metadata": {},
   "outputs": [],
   "source": []
  },
  {
   "cell_type": "code",
   "execution_count": null,
   "id": "1ce8fc51-414a-4b05-9e73-b2f32f208eee",
   "metadata": {},
   "outputs": [],
   "source": []
  },
  {
   "cell_type": "code",
   "execution_count": null,
   "id": "81466463-4127-4183-87fc-bf8f97d0a7ce",
   "metadata": {},
   "outputs": [],
   "source": []
  },
  {
   "cell_type": "code",
   "execution_count": null,
   "id": "b45f0dfc-f454-4786-88ed-5062a995b41a",
   "metadata": {},
   "outputs": [],
   "source": []
  },
  {
   "cell_type": "code",
   "execution_count": null,
   "id": "c8cf5088-d955-41ee-a661-507dbe080ee0",
   "metadata": {},
   "outputs": [],
   "source": []
  },
  {
   "cell_type": "code",
   "execution_count": null,
   "id": "5119eb57-03c2-404d-9fea-328374754c22",
   "metadata": {},
   "outputs": [],
   "source": []
  },
  {
   "cell_type": "code",
   "execution_count": null,
   "id": "a609432d-c6cf-4639-a843-bd47e3bfb8a5",
   "metadata": {},
   "outputs": [],
   "source": []
  }
 ],
 "metadata": {
  "kernelspec": {
   "display_name": "Python 3 (ipykernel)",
   "language": "python",
   "name": "python3"
  },
  "language_info": {
   "codemirror_mode": {
    "name": "ipython",
    "version": 3
   },
   "file_extension": ".py",
   "mimetype": "text/x-python",
   "name": "python",
   "nbconvert_exporter": "python",
   "pygments_lexer": "ipython3",
   "version": "3.12.3"
  }
 },
 "nbformat": 4,
 "nbformat_minor": 5
}

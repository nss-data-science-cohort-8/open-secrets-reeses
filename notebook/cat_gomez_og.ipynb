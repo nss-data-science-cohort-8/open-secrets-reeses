{
 "cells": [
  {
   "cell_type": "markdown",
   "id": "96ad2bb9-5734-4154-a0c5-8c217d56b308",
   "metadata": {},
   "source": [
    "# An Analysis of Political Contributions During the 2020 House of Representatives Election"
   ]
  },
  {
   "cell_type": "markdown",
   "id": "e104a293-d94f-43c0-aa0c-13f649b21e40",
   "metadata": {},
   "source": [
    "#### In this part, you will obtain as much data as you can on the campaign contributions received by each candidate. This data is avaiable through the website https://www.opensecrets.org/."
   ]
  },
  {
   "cell_type": "markdown",
   "id": "569c69b9-a2ad-456e-a1c6-eafaa84653d3",
   "metadata": {},
   "source": [
    "## Part 1: Data Gathering"
   ]
  },
  {
   "cell_type": "code",
   "execution_count": 4,
   "id": "bd2c2c41-9dd2-4146-87ae-bef9908d8771",
   "metadata": {},
   "outputs": [],
   "source": [
    "import requests\n",
    "import pandas as pd\n",
    "from bs4 import BeautifulSoup\n",
    "from IPython.core.display import HTML\n",
    "import io\n",
    "import re\n",
    "import regex\n",
    "import csv\n",
    "from datetime import datetime as dt\n",
    "import urllib3\n",
    "from IPython.core.display import HTML\n",
    "# import re2\n"
   ]
  },
  {
   "cell_type": "markdown",
   "id": "27b7d8d2-7a59-4bd9-bb87-1ce070312888",
   "metadata": {},
   "source": [
    "### 1. Start by acquiring the data from Tennessee's 7th District, which is available at https://www.opensecrets.org/races/summary?cycle=2020&id=TN07&spec=N. If you click the \"Download .csv file\", you can get a csv for this district. However, we don't want to have to click this button across all districts. Instead, we'll use Python to help automate this process. Start by sending a get request to the download button URL, https://www.opensecrets.org/races/summary.csv?cycle=2020&id=TN07. Convert the result to a DataFrame."
   ]
  },
  {
   "cell_type": "code",
   "execution_count": 6,
   "id": "bed859c6-0914-44a9-b225-446e9841354a",
   "metadata": {},
   "outputs": [
    {
     "data": {
      "text/html": [
       "<div>\n",
       "<style scoped>\n",
       "    .dataframe tbody tr th:only-of-type {\n",
       "        vertical-align: middle;\n",
       "    }\n",
       "\n",
       "    .dataframe tbody tr th {\n",
       "        vertical-align: top;\n",
       "    }\n",
       "\n",
       "    .dataframe thead th {\n",
       "        text-align: right;\n",
       "    }\n",
       "</style>\n",
       "<table border=\"1\" class=\"dataframe\">\n",
       "  <thead>\n",
       "    <tr style=\"text-align: right;\">\n",
       "      <th></th>\n",
       "      <th>cid</th>\n",
       "      <th>FirstLastP</th>\n",
       "      <th>Rcpts</th>\n",
       "      <th>Spent</th>\n",
       "      <th>PACs</th>\n",
       "      <th>Indivs</th>\n",
       "      <th>Cand</th>\n",
       "      <th>Other</th>\n",
       "      <th>EndCash</th>\n",
       "      <th>LgIndivs</th>\n",
       "      <th>...</th>\n",
       "      <th>Result</th>\n",
       "      <th>CRPICO</th>\n",
       "      <th>State</th>\n",
       "      <th>IncCID</th>\n",
       "      <th>Incumbent</th>\n",
       "      <th>primarydate</th>\n",
       "      <th>DistIDCurr</th>\n",
       "      <th>capeye</th>\n",
       "      <th>sort</th>\n",
       "      <th>SmLgIndivsNote</th>\n",
       "    </tr>\n",
       "  </thead>\n",
       "  <tbody>\n",
       "    <tr>\n",
       "      <th>0</th>\n",
       "      <td>N00041873</td>\n",
       "      <td>Mark Green (R)</td>\n",
       "      <td>1194960.47</td>\n",
       "      <td>935486.67</td>\n",
       "      <td>171900.0</td>\n",
       "      <td>819151.42</td>\n",
       "      <td>0.0</td>\n",
       "      <td>203909.05</td>\n",
       "      <td>287888.55</td>\n",
       "      <td>819151.42</td>\n",
       "      <td>...</td>\n",
       "      <td>W</td>\n",
       "      <td>I</td>\n",
       "      <td>Tennessee</td>\n",
       "      <td>NaN</td>\n",
       "      <td>NaN</td>\n",
       "      <td>2020-08-06 00:00:00 +0000</td>\n",
       "      <td>TN07</td>\n",
       "      <td>0</td>\n",
       "      <td>1</td>\n",
       "      <td>N</td>\n",
       "    </tr>\n",
       "    <tr>\n",
       "      <th>1</th>\n",
       "      <td>N00045536</td>\n",
       "      <td>Kiran Sreepada (D)</td>\n",
       "      <td>206644.28</td>\n",
       "      <td>207190.98</td>\n",
       "      <td>4000.0</td>\n",
       "      <td>202644.28</td>\n",
       "      <td>0.0</td>\n",
       "      <td>0.00</td>\n",
       "      <td>0.00</td>\n",
       "      <td>179129.75</td>\n",
       "      <td>...</td>\n",
       "      <td>L</td>\n",
       "      <td>C</td>\n",
       "      <td>Tennessee</td>\n",
       "      <td>NaN</td>\n",
       "      <td>NaN</td>\n",
       "      <td>2020-08-06 00:00:00 +0000</td>\n",
       "      <td>TN07</td>\n",
       "      <td>0</td>\n",
       "      <td>2</td>\n",
       "      <td>N</td>\n",
       "    </tr>\n",
       "  </tbody>\n",
       "</table>\n",
       "<p>2 rows × 24 columns</p>\n",
       "</div>"
      ],
      "text/plain": [
       "         cid          FirstLastP       Rcpts      Spent      PACs     Indivs  \\\n",
       "0  N00041873      Mark Green (R)  1194960.47  935486.67  171900.0  819151.42   \n",
       "1  N00045536  Kiran Sreepada (D)   206644.28  207190.98    4000.0  202644.28   \n",
       "\n",
       "   Cand      Other    EndCash   LgIndivs  ...  Result CRPICO      State  \\\n",
       "0   0.0  203909.05  287888.55  819151.42  ...       W      I  Tennessee   \n",
       "1   0.0       0.00       0.00  179129.75  ...       L      C  Tennessee   \n",
       "\n",
       "   IncCID Incumbent                primarydate DistIDCurr  capeye  sort  \\\n",
       "0     NaN       NaN  2020-08-06 00:00:00 +0000       TN07       0     1   \n",
       "1     NaN       NaN  2020-08-06 00:00:00 +0000       TN07       0     2   \n",
       "\n",
       "  SmLgIndivsNote  \n",
       "0              N  \n",
       "1              N  \n",
       "\n",
       "[2 rows x 24 columns]"
      ]
     },
     "execution_count": 6,
     "metadata": {},
     "output_type": "execute_result"
    }
   ],
   "source": [
    "#Nitin's code\n",
    "url = 'https://www.opensecrets.org/races/summary.csv?cycle=2020&id=TN07'\n",
    "\n",
    "#Lets use try-except whenever we make any any http request.\n",
    "\n",
    "#If we invoke .raise_for_status(), then Requests will raise an HTTPError for status codes between 400 and 600. \n",
    "#If the status code indicates a successful request, then the program will proceed without raising that exception.\n",
    "\n",
    "try:\n",
    "    \n",
    "    response = requests.get(url)\n",
    "    response.raise_for_status()\n",
    "except HTTPError as http_err:\n",
    "    print(f\"HTTP error occurred: {http_err}\")\n",
    "except Exception as err:\n",
    "    print(f\"Other error occurred: {err}\")\n",
    "else:\n",
    "    data = response.content.decode('utf8')\n",
    "    df = pd.read_csv(io.StringIO(data))\n",
    "\n",
    "#Lets populate the district ID column with TN07 so that we could use it later\n",
    "df['DistIDCurr']='TN07'\n",
    "df.head(2)"
   ]
  },
  {
   "cell_type": "code",
   "execution_count": 7,
   "id": "79e0e01b-2867-4895-b3d3-d142f3d7adb3",
   "metadata": {},
   "outputs": [
    {
     "data": {
      "text/plain": [
       "<bound method Response.raise_for_status of <Response [200]>>"
      ]
     },
     "execution_count": 7,
     "metadata": {},
     "output_type": "execute_result"
    }
   ],
   "source": [
    "url = 'https://www.opensecrets.org/races/summary.csv?cycle=2020&id=TN07'\n",
    "\n",
    "r = requests.get(url)\n",
    "r.raise_for_status\n",
    "#data = r.content.decode('utf8')\n",
    "#df = pd.read_csv(io.StringIO(data))\n",
    "#df.head(2)"
   ]
  },
  {
   "cell_type": "code",
   "execution_count": 8,
   "id": "a1bfb1d5-29df-4cc1-aacd-16183b035726",
   "metadata": {},
   "outputs": [
    {
     "data": {
      "text/html": [
       "<div>\n",
       "<style scoped>\n",
       "    .dataframe tbody tr th:only-of-type {\n",
       "        vertical-align: middle;\n",
       "    }\n",
       "\n",
       "    .dataframe tbody tr th {\n",
       "        vertical-align: top;\n",
       "    }\n",
       "\n",
       "    .dataframe thead th {\n",
       "        text-align: right;\n",
       "    }\n",
       "</style>\n",
       "<table border=\"1\" class=\"dataframe\">\n",
       "  <thead>\n",
       "    <tr style=\"text-align: right;\">\n",
       "      <th></th>\n",
       "      <th>cid</th>\n",
       "      <th>FirstLastP</th>\n",
       "      <th>Rcpts</th>\n",
       "      <th>Spent</th>\n",
       "      <th>PACs</th>\n",
       "      <th>Indivs</th>\n",
       "      <th>Cand</th>\n",
       "      <th>Other</th>\n",
       "      <th>EndCash</th>\n",
       "      <th>LgIndivs</th>\n",
       "      <th>...</th>\n",
       "      <th>Result</th>\n",
       "      <th>CRPICO</th>\n",
       "      <th>State</th>\n",
       "      <th>IncCID</th>\n",
       "      <th>Incumbent</th>\n",
       "      <th>primarydate</th>\n",
       "      <th>DistIDCurr</th>\n",
       "      <th>capeye</th>\n",
       "      <th>sort</th>\n",
       "      <th>SmLgIndivsNote</th>\n",
       "    </tr>\n",
       "  </thead>\n",
       "  <tbody>\n",
       "    <tr>\n",
       "      <th>0</th>\n",
       "      <td>N00046688</td>\n",
       "      <td>Diana Harshbarger (R)</td>\n",
       "      <td>2126945.60</td>\n",
       "      <td>1869099.77</td>\n",
       "      <td>222800.0</td>\n",
       "      <td>359728.50</td>\n",
       "      <td>1461293.0</td>\n",
       "      <td>83124.1</td>\n",
       "      <td>257845.83</td>\n",
       "      <td>315489.1</td>\n",
       "      <td>...</td>\n",
       "      <td>W</td>\n",
       "      <td>O</td>\n",
       "      <td>Tennessee</td>\n",
       "      <td>NaN</td>\n",
       "      <td>NaN</td>\n",
       "      <td>2020-08-06 00:00:00 +0000</td>\n",
       "      <td></td>\n",
       "      <td>0</td>\n",
       "      <td>2</td>\n",
       "      <td>N</td>\n",
       "    </tr>\n",
       "    <tr>\n",
       "      <th>1</th>\n",
       "      <td>N00046686</td>\n",
       "      <td>Blair Nicole Walsingham (D)</td>\n",
       "      <td>140209.14</td>\n",
       "      <td>134994.55</td>\n",
       "      <td>1520.0</td>\n",
       "      <td>138689.14</td>\n",
       "      <td>0.0</td>\n",
       "      <td>0.0</td>\n",
       "      <td>5214.59</td>\n",
       "      <td>70085.2</td>\n",
       "      <td>...</td>\n",
       "      <td>L</td>\n",
       "      <td>O</td>\n",
       "      <td>Tennessee</td>\n",
       "      <td>NaN</td>\n",
       "      <td>NaN</td>\n",
       "      <td>2020-08-06 00:00:00 +0000</td>\n",
       "      <td></td>\n",
       "      <td>0</td>\n",
       "      <td>2</td>\n",
       "      <td>N</td>\n",
       "    </tr>\n",
       "  </tbody>\n",
       "</table>\n",
       "<p>2 rows × 24 columns</p>\n",
       "</div>"
      ],
      "text/plain": [
       "         cid                   FirstLastP       Rcpts       Spent      PACs  \\\n",
       "0  N00046688        Diana Harshbarger (R)  2126945.60  1869099.77  222800.0   \n",
       "1  N00046686  Blair Nicole Walsingham (D)   140209.14   134994.55    1520.0   \n",
       "\n",
       "      Indivs       Cand    Other    EndCash  LgIndivs  ...  Result CRPICO  \\\n",
       "0  359728.50  1461293.0  83124.1  257845.83  315489.1  ...       W      O   \n",
       "1  138689.14        0.0      0.0    5214.59   70085.2  ...       L      O   \n",
       "\n",
       "       State  IncCID Incumbent                primarydate DistIDCurr  capeye  \\\n",
       "0  Tennessee     NaN       NaN  2020-08-06 00:00:00 +0000                  0   \n",
       "1  Tennessee     NaN       NaN  2020-08-06 00:00:00 +0000                  0   \n",
       "\n",
       "   sort SmLgIndivsNote  \n",
       "0     2              N  \n",
       "1     2              N  \n",
       "\n",
       "[2 rows x 24 columns]"
      ]
     },
     "execution_count": 8,
     "metadata": {},
     "output_type": "execute_result"
    }
   ],
   "source": [
    "dist_01 = 'https://www.opensecrets.org/races/summary.csv?cycle=2020&id=TN01'\n",
    "\n",
    "r = requests.get(dist_01)\n",
    "data = r.content.decode('utf8')\n",
    "df = pd.read_csv(io.StringIO(data))\n",
    "df.head(2)"
   ]
  },
  {
   "cell_type": "markdown",
   "id": "fac91e28-6e62-498d-a1ae-8ebe27c6a971",
   "metadata": {},
   "source": [
    "### 2. Once you have working code for Tennessee's 7th District, expand on your code to capture all of Tennessee's districts into a single DataFrame. Make sure that you can distinguish which district each result came from. Export the results to a csv file."
   ]
  },
  {
   "cell_type": "code",
   "execution_count": 10,
   "id": "63ccaa8c-9d09-46b5-9087-74b36336ac63",
   "metadata": {},
   "outputs": [
    {
     "data": {
      "text/html": [
       "<div>\n",
       "<style scoped>\n",
       "    .dataframe tbody tr th:only-of-type {\n",
       "        vertical-align: middle;\n",
       "    }\n",
       "\n",
       "    .dataframe tbody tr th {\n",
       "        vertical-align: top;\n",
       "    }\n",
       "\n",
       "    .dataframe thead th {\n",
       "        text-align: right;\n",
       "    }\n",
       "</style>\n",
       "<table border=\"1\" class=\"dataframe\">\n",
       "  <thead>\n",
       "    <tr style=\"text-align: right;\">\n",
       "      <th></th>\n",
       "      <th>cid</th>\n",
       "      <th>FirstLastP</th>\n",
       "      <th>Rcpts</th>\n",
       "      <th>Spent</th>\n",
       "      <th>PACs</th>\n",
       "      <th>Indivs</th>\n",
       "      <th>Cand</th>\n",
       "      <th>Other</th>\n",
       "      <th>EndCash</th>\n",
       "      <th>LgIndivs</th>\n",
       "      <th>...</th>\n",
       "      <th>Result</th>\n",
       "      <th>CRPICO</th>\n",
       "      <th>State</th>\n",
       "      <th>IncCID</th>\n",
       "      <th>Incumbent</th>\n",
       "      <th>primarydate</th>\n",
       "      <th>DistIDCurr</th>\n",
       "      <th>capeye</th>\n",
       "      <th>sort</th>\n",
       "      <th>SmLgIndivsNote</th>\n",
       "    </tr>\n",
       "  </thead>\n",
       "  <tbody>\n",
       "    <tr>\n",
       "      <th>0</th>\n",
       "      <td>N00041873</td>\n",
       "      <td>Mark Green (R)</td>\n",
       "      <td>1194960.47</td>\n",
       "      <td>935486.67</td>\n",
       "      <td>171900.0</td>\n",
       "      <td>819151.42</td>\n",
       "      <td>0.0</td>\n",
       "      <td>203909.05</td>\n",
       "      <td>287888.55</td>\n",
       "      <td>819151.42</td>\n",
       "      <td>...</td>\n",
       "      <td>W</td>\n",
       "      <td>I</td>\n",
       "      <td>Tennessee</td>\n",
       "      <td>NaN</td>\n",
       "      <td>NaN</td>\n",
       "      <td>2020-08-06 00:00:00 +0000</td>\n",
       "      <td>TN07</td>\n",
       "      <td>0</td>\n",
       "      <td>1</td>\n",
       "      <td>N</td>\n",
       "    </tr>\n",
       "    <tr>\n",
       "      <th>1</th>\n",
       "      <td>N00045536</td>\n",
       "      <td>Kiran Sreepada (D)</td>\n",
       "      <td>206644.28</td>\n",
       "      <td>207190.98</td>\n",
       "      <td>4000.0</td>\n",
       "      <td>202644.28</td>\n",
       "      <td>0.0</td>\n",
       "      <td>0.00</td>\n",
       "      <td>0.00</td>\n",
       "      <td>179129.75</td>\n",
       "      <td>...</td>\n",
       "      <td>L</td>\n",
       "      <td>C</td>\n",
       "      <td>Tennessee</td>\n",
       "      <td>NaN</td>\n",
       "      <td>NaN</td>\n",
       "      <td>2020-08-06 00:00:00 +0000</td>\n",
       "      <td>TN07</td>\n",
       "      <td>0</td>\n",
       "      <td>2</td>\n",
       "      <td>N</td>\n",
       "    </tr>\n",
       "  </tbody>\n",
       "</table>\n",
       "<p>2 rows × 24 columns</p>\n",
       "</div>"
      ],
      "text/plain": [
       "         cid          FirstLastP       Rcpts      Spent      PACs     Indivs  \\\n",
       "0  N00041873      Mark Green (R)  1194960.47  935486.67  171900.0  819151.42   \n",
       "1  N00045536  Kiran Sreepada (D)   206644.28  207190.98    4000.0  202644.28   \n",
       "\n",
       "   Cand      Other    EndCash   LgIndivs  ...  Result CRPICO      State  \\\n",
       "0   0.0  203909.05  287888.55  819151.42  ...       W      I  Tennessee   \n",
       "1   0.0       0.00       0.00  179129.75  ...       L      C  Tennessee   \n",
       "\n",
       "   IncCID Incumbent                primarydate DistIDCurr  capeye  sort  \\\n",
       "0     NaN       NaN  2020-08-06 00:00:00 +0000       TN07       0     1   \n",
       "1     NaN       NaN  2020-08-06 00:00:00 +0000       TN07       0     2   \n",
       "\n",
       "  SmLgIndivsNote  \n",
       "0              N  \n",
       "1              N  \n",
       "\n",
       "[2 rows x 24 columns]"
      ]
     },
     "execution_count": 10,
     "metadata": {},
     "output_type": "execute_result"
    }
   ],
   "source": [
    "# nitin's code\n",
    "\n",
    "url = 'https://www.opensecrets.org/races/summary.csv?cycle=2020&id=TN07'\n",
    "\n",
    "#Lets use try-except whenever we make any any http request.\n",
    "\n",
    "#If we invoke .raise_for_status(), then Requests will raise an HTTPError for status codes between 400 and 600. \n",
    "#If the status code indicates a successful request, then the program will proceed without raising that exception.\n",
    "\n",
    "try:\n",
    "    \n",
    "    response = requests.get(url)\n",
    "    response.raise_for_status()\n",
    "except HTTPError as http_err:\n",
    "    print(f\"HTTP error occurred: {http_err}\")\n",
    "except Exception as err:\n",
    "    print(f\"Other error occurred: {err}\")\n",
    "else:\n",
    "    data = response.content.decode('utf8')\n",
    "    df = pd.read_csv(io.StringIO(data))\n",
    "\n",
    "#Lets populate the district ID column with TN07 so that we could use it later\n",
    "df['DistIDCurr']='TN07'\n",
    "df.head(2)"
   ]
  },
  {
   "cell_type": "markdown",
   "id": "597606ef-4996-45ec-8d74-db16b0e3af59",
   "metadata": {},
   "source": [
    "### 3. Once you have working code for all of Tennessee's districts, expand on it to capture all states and districts. The number of districts for each state can be found at https://en.wikipedia.org/wiki/2020_United_States_House_of_Representatives_elections. You may also find the table of state abbreviations here helpful: https://en.wikipedia.org/wiki/List_of_U.S._state_and_territory_abbreviations. Export a csv file for each state."
   ]
  },
  {
   "cell_type": "code",
   "execution_count": 12,
   "id": "4f9a4276-0359-4ac4-9e03-05fd43f27419",
   "metadata": {},
   "outputs": [
    {
     "data": {
      "text/html": [
       "<div>\n",
       "<style scoped>\n",
       "    .dataframe tbody tr th:only-of-type {\n",
       "        vertical-align: middle;\n",
       "    }\n",
       "\n",
       "    .dataframe tbody tr th {\n",
       "        vertical-align: top;\n",
       "    }\n",
       "\n",
       "    .dataframe thead th {\n",
       "        text-align: right;\n",
       "    }\n",
       "</style>\n",
       "<table border=\"1\" class=\"dataframe\">\n",
       "  <thead>\n",
       "    <tr style=\"text-align: right;\">\n",
       "      <th></th>\n",
       "      <th>US State</th>\n",
       "      <th>Number of Districts</th>\n",
       "    </tr>\n",
       "  </thead>\n",
       "  <tbody>\n",
       "    <tr>\n",
       "      <th>0</th>\n",
       "      <td>Alabama</td>\n",
       "      <td>7</td>\n",
       "    </tr>\n",
       "    <tr>\n",
       "      <th>1</th>\n",
       "      <td>Alaska</td>\n",
       "      <td>1</td>\n",
       "    </tr>\n",
       "  </tbody>\n",
       "</table>\n",
       "</div>"
      ],
      "text/plain": [
       "  US State  Number of Districts\n",
       "0  Alabama                    7\n",
       "1   Alaska                    1"
      ]
     },
     "execution_count": 12,
     "metadata": {},
     "output_type": "execute_result"
    }
   ],
   "source": [
    "# https://en.wikipedia.org/wiki/2020_United_States_House_of_Representatives_elections\n",
    "# Number of representatives for each state\n",
    "# scrape wiki page - data strings from there and use those strings to interpolate the url through \n",
    "\n",
    "wiki_rep_url = 'https://en.wikipedia.org/wiki/2020_United_States_House_of_Representatives_elections'\n",
    "\n",
    "r = requests.get(wiki_rep_url)\n",
    "wiki_rep_soup = BeautifulSoup(r.text, features=\"html.parser\")\n",
    "\n",
    "table_html_rep_wiki = str(wiki_rep_soup.find('table', attrs={'class':['wikitable', 'sortable jquery-tablesorter'], 'style':'text-align:center'}))\n",
    "HTML(table_html_rep_wiki)\n",
    "# reformat table as a df\n",
    "\n",
    "wiki_rep_df = pd.read_html(io.StringIO(str(table_html_rep_wiki)))[0]\n",
    "#wiki_rep_df.head(2)\n",
    "wiki_rep_df_limited = wiki_rep_df[['State', 'Total seats']]\n",
    "wiki_rep_df_limited_flat = wiki_rep_df_limited.to_csv(header=None,index=False)\n",
    "wiki_rep_df_limited_flat_df = pd.read_csv(io.StringIO(wiki_rep_df_limited_flat), names=['US State', 'Number of Districts'])\n",
    "wiki_rep_df_limited_flat_df.head(2)"
   ]
  },
  {
   "cell_type": "code",
   "execution_count": 13,
   "id": "cebc7568-3d02-4ec6-a13e-9845e2d286a8",
   "metadata": {},
   "outputs": [
    {
     "data": {
      "text/html": [
       "<div>\n",
       "<style scoped>\n",
       "    .dataframe tbody tr th:only-of-type {\n",
       "        vertical-align: middle;\n",
       "    }\n",
       "\n",
       "    .dataframe tbody tr th {\n",
       "        vertical-align: top;\n",
       "    }\n",
       "\n",
       "    .dataframe thead tr th {\n",
       "        text-align: left;\n",
       "    }\n",
       "</style>\n",
       "<table border=\"1\" class=\"dataframe\">\n",
       "  <thead>\n",
       "    <tr>\n",
       "      <th></th>\n",
       "      <th>State</th>\n",
       "      <th>Total seats</th>\n",
       "    </tr>\n",
       "    <tr>\n",
       "      <th></th>\n",
       "      <th>State</th>\n",
       "      <th>Total seats</th>\n",
       "    </tr>\n",
       "  </thead>\n",
       "  <tbody>\n",
       "    <tr>\n",
       "      <th>0</th>\n",
       "      <td>Alabama</td>\n",
       "      <td>7</td>\n",
       "    </tr>\n",
       "    <tr>\n",
       "      <th>1</th>\n",
       "      <td>Alaska</td>\n",
       "      <td>1</td>\n",
       "    </tr>\n",
       "    <tr>\n",
       "      <th>2</th>\n",
       "      <td>Arizona</td>\n",
       "      <td>9</td>\n",
       "    </tr>\n",
       "  </tbody>\n",
       "</table>\n",
       "</div>"
      ],
      "text/plain": [
       "     State Total seats\n",
       "     State Total seats\n",
       "0  Alabama           7\n",
       "1   Alaska           1\n",
       "2  Arizona           9"
      ]
     },
     "execution_count": 13,
     "metadata": {},
     "output_type": "execute_result"
    }
   ],
   "source": [
    "wiki_rep_df_limited = wiki_rep_df[['State', 'Total seats']]\n",
    "wiki_rep_df_limited.head(3)"
   ]
  },
  {
   "cell_type": "code",
   "execution_count": 14,
   "id": "c49c62d0-13bc-4f24-b18b-0623936f385d",
   "metadata": {},
   "outputs": [
    {
     "data": {
      "text/html": [
       "<div>\n",
       "<style scoped>\n",
       "    .dataframe tbody tr th:only-of-type {\n",
       "        vertical-align: middle;\n",
       "    }\n",
       "\n",
       "    .dataframe tbody tr th {\n",
       "        vertical-align: top;\n",
       "    }\n",
       "\n",
       "    .dataframe thead th {\n",
       "        text-align: right;\n",
       "    }\n",
       "</style>\n",
       "<table border=\"1\" class=\"dataframe\">\n",
       "  <thead>\n",
       "    <tr style=\"text-align: right;\">\n",
       "      <th></th>\n",
       "      <th>US State</th>\n",
       "      <th>Number of Districts</th>\n",
       "    </tr>\n",
       "  </thead>\n",
       "  <tbody>\n",
       "    <tr>\n",
       "      <th>0</th>\n",
       "      <td>Alabama</td>\n",
       "      <td>7</td>\n",
       "    </tr>\n",
       "    <tr>\n",
       "      <th>1</th>\n",
       "      <td>Alaska</td>\n",
       "      <td>1</td>\n",
       "    </tr>\n",
       "  </tbody>\n",
       "</table>\n",
       "</div>"
      ],
      "text/plain": [
       "  US State  Number of Districts\n",
       "0  Alabama                    7\n",
       "1   Alaska                    1"
      ]
     },
     "execution_count": 14,
     "metadata": {},
     "output_type": "execute_result"
    }
   ],
   "source": [
    "wiki_rep_df_limited_flat = wiki_rep_df_limited.to_csv(header=None,index=False)\n",
    "wiki_rep_df_limited_flat_df = pd.read_csv(io.StringIO(wiki_rep_df_limited_flat), names=['US State', 'Number of Districts'])\n",
    "wiki_rep_df_limited_flat_df.head(2)"
   ]
  },
  {
   "cell_type": "code",
   "execution_count": 15,
   "id": "b45f0dfc-f454-4786-88ed-5062a995b41a",
   "metadata": {},
   "outputs": [
    {
     "data": {
      "text/html": [
       "<div>\n",
       "<style scoped>\n",
       "    .dataframe tbody tr th:only-of-type {\n",
       "        vertical-align: middle;\n",
       "    }\n",
       "\n",
       "    .dataframe tbody tr th {\n",
       "        vertical-align: top;\n",
       "    }\n",
       "\n",
       "    .dataframe thead th {\n",
       "        text-align: right;\n",
       "    }\n",
       "</style>\n",
       "<table border=\"1\" class=\"dataframe\">\n",
       "  <thead>\n",
       "    <tr style=\"text-align: right;\">\n",
       "      <th></th>\n",
       "      <th>US State</th>\n",
       "      <th>Abbreviation</th>\n",
       "    </tr>\n",
       "  </thead>\n",
       "  <tbody>\n",
       "    <tr>\n",
       "      <th>0</th>\n",
       "      <td>Alabama</td>\n",
       "      <td>AL</td>\n",
       "    </tr>\n",
       "    <tr>\n",
       "      <th>1</th>\n",
       "      <td>Alaska</td>\n",
       "      <td>AK</td>\n",
       "    </tr>\n",
       "  </tbody>\n",
       "</table>\n",
       "</div>"
      ],
      "text/plain": [
       "  US State Abbreviation\n",
       "0  Alabama           AL\n",
       "1   Alaska           AK"
      ]
     },
     "execution_count": 15,
     "metadata": {},
     "output_type": "execute_result"
    }
   ],
   "source": [
    "# https://www.worldatlas.com/geography/usa-states.html\n",
    "# Abbreviations of each state\n",
    "# scrape page - data strings from there and use those strings to interpolate the url through \n",
    "StateAbbrev_url = 'https://www.worldatlas.com/geography/usa-states.html'\n",
    "\n",
    "r = requests.get(StateAbbrev_url)\n",
    "StateAbbrev_soup = BeautifulSoup(r.text, features=\"html.parser\")\n",
    "\n",
    "table_html_StateAbbrev = str(StateAbbrev_soup.find('table'))\n",
    "HTML(table_html_StateAbbrev)\n",
    "wiki_st_opp_df = pd.read_html(io.StringIO(str(table_html_StateAbbrev)))[0]\n",
    "wiki_st_opp_df.head(2)"
   ]
  },
  {
   "cell_type": "code",
   "execution_count": 16,
   "id": "a609432d-c6cf-4639-a843-bd47e3bfb8a5",
   "metadata": {},
   "outputs": [
    {
     "data": {
      "text/html": [
       "<div>\n",
       "<style scoped>\n",
       "    .dataframe tbody tr th:only-of-type {\n",
       "        vertical-align: middle;\n",
       "    }\n",
       "\n",
       "    .dataframe tbody tr th {\n",
       "        vertical-align: top;\n",
       "    }\n",
       "\n",
       "    .dataframe thead th {\n",
       "        text-align: right;\n",
       "    }\n",
       "</style>\n",
       "<table border=\"1\" class=\"dataframe\">\n",
       "  <thead>\n",
       "    <tr style=\"text-align: right;\">\n",
       "      <th></th>\n",
       "      <th>Abbreviation</th>\n",
       "      <th>Number of Districts</th>\n",
       "    </tr>\n",
       "  </thead>\n",
       "  <tbody>\n",
       "    <tr>\n",
       "      <th>0</th>\n",
       "      <td>AL</td>\n",
       "      <td>07</td>\n",
       "    </tr>\n",
       "    <tr>\n",
       "      <th>1</th>\n",
       "      <td>AK</td>\n",
       "      <td>01</td>\n",
       "    </tr>\n",
       "  </tbody>\n",
       "</table>\n",
       "</div>"
      ],
      "text/plain": [
       "  Abbreviation Number of Districts\n",
       "0           AL                  07\n",
       "1           AK                  01"
      ]
     },
     "execution_count": 16,
     "metadata": {},
     "output_type": "execute_result"
    }
   ],
   "source": [
    "# merge the wiki df for number of state representatives per state with state name with df for state abbr with state name\n",
    "st_rep_df_merged = pd.merge(wiki_st_opp_df, wiki_rep_df_limited_flat_df, on = \"US State\", how = \"inner\")\n",
    "st_rep_df_merged_drop = st_rep_df_merged.drop('US State', axis=1)\n",
    "st_rep_df_merged_drop['Number of Districts'] = st_rep_df_merged_drop['Number of Districts'].astype(str).str.zfill(2)\n",
    "st_rep_df_merged_drop.head(2)"
   ]
  },
  {
   "cell_type": "code",
   "execution_count": 17,
   "id": "2f664876-40b0-49de-937f-d1aaf7c86650",
   "metadata": {},
   "outputs": [
    {
     "data": {
      "text/plain": [
       "'AZ'"
      ]
     },
     "execution_count": 17,
     "metadata": {},
     "output_type": "execute_result"
    }
   ],
   "source": [
    "st_rep_df_merged_drop['Abbreviation'][2]"
   ]
  },
  {
   "cell_type": "code",
   "execution_count": 18,
   "id": "58dfb0e4-895e-4ba6-88f2-7a3b7f0100d4",
   "metadata": {},
   "outputs": [
    {
     "data": {
      "text/plain": [
       "'07'"
      ]
     },
     "execution_count": 18,
     "metadata": {},
     "output_type": "execute_result"
    }
   ],
   "source": [
    "st_rep_df_merged_drop['Number of Districts'][5]"
   ]
  },
  {
   "cell_type": "code",
   "execution_count": null,
   "id": "2640d7af-3ea6-4730-aec3-23d4fb3fd121",
   "metadata": {},
   "outputs": [],
   "source": []
  },
  {
   "cell_type": "code",
   "execution_count": 19,
   "id": "62b2e61a-a159-473c-b42f-65e2f1388eca",
   "metadata": {},
   "outputs": [
    {
     "data": {
      "text/plain": [
       "['AL',\n",
       " 'AK',\n",
       " 'AZ',\n",
       " 'AR',\n",
       " 'CA',\n",
       " 'CO',\n",
       " 'CT',\n",
       " 'DE',\n",
       " 'FL',\n",
       " 'GA',\n",
       " 'HI',\n",
       " 'ID',\n",
       " 'IL',\n",
       " 'IN',\n",
       " 'IA',\n",
       " 'KS',\n",
       " 'KY',\n",
       " 'LA',\n",
       " 'ME',\n",
       " 'MD',\n",
       " 'MA',\n",
       " 'MI',\n",
       " 'MN',\n",
       " 'MS',\n",
       " 'MO',\n",
       " 'MT',\n",
       " 'NE',\n",
       " 'NV',\n",
       " 'NH',\n",
       " 'NJ',\n",
       " 'NM',\n",
       " 'NY',\n",
       " 'NC',\n",
       " 'ND',\n",
       " 'OH',\n",
       " 'OK',\n",
       " 'OR',\n",
       " 'PA',\n",
       " 'RI',\n",
       " 'SC',\n",
       " 'SD',\n",
       " 'TN',\n",
       " 'TX',\n",
       " 'UT',\n",
       " 'VT',\n",
       " 'VA',\n",
       " 'WA',\n",
       " 'WV',\n",
       " 'WI',\n",
       " 'WY']"
      ]
     },
     "execution_count": 19,
     "metadata": {},
     "output_type": "execute_result"
    }
   ],
   "source": [
    "st_abbr = st_rep_df_merged_drop['Abbreviation'].to_list()\n",
    "dist_num = st_rep_df_merged_drop['Number of Districts'].to_list()\n",
    "open_secrets_csv_url_base = f'https://www.opensecrets.org/races/summary.csv?cycle=2020&id='\n",
    "#open_secrets_csv_url_base\n",
    "st_abbr"
   ]
  },
  {
   "cell_type": "code",
   "execution_count": 20,
   "id": "aa8fde60-6a0b-4505-9dc7-de83732d8bb4",
   "metadata": {},
   "outputs": [
    {
     "data": {
      "text/plain": [
       "['https://www.opensecrets.org/races/summary.csv?cycle=2020&id=AL',\n",
       " 'https://www.opensecrets.org/races/summary.csv?cycle=2020&id=AK',\n",
       " 'https://www.opensecrets.org/races/summary.csv?cycle=2020&id=AZ',\n",
       " 'https://www.opensecrets.org/races/summary.csv?cycle=2020&id=AR',\n",
       " 'https://www.opensecrets.org/races/summary.csv?cycle=2020&id=CA',\n",
       " 'https://www.opensecrets.org/races/summary.csv?cycle=2020&id=CO']"
      ]
     },
     "execution_count": 20,
     "metadata": {},
     "output_type": "execute_result"
    }
   ],
   "source": [
    "urls_st = []\n",
    "\n",
    "#def add_to_url_begin(st_abbr):\n",
    "\n",
    "for i in range(0, len(st_abbr)):\n",
    "    #st_abbr[i]\n",
    "    urls_st.append(open_secrets_csv_url_base + st_abbr[i])\n",
    "\n",
    "#add_to_url_begin(st_abbr)\n",
    "urls_st[:6]"
   ]
  },
  {
   "cell_type": "code",
   "execution_count": 42,
   "id": "56b8bf14-24c5-4337-b794-d0cb0a33a997",
   "metadata": {},
   "outputs": [
    {
     "data": {
      "text/plain": [
       "['https://www.opensecrets.org/races/summary.csv?cycle=2020&id=AL07',\n",
       " 'https://www.opensecrets.org/races/summary.csv?cycle=2020&id=AK01',\n",
       " 'https://www.opensecrets.org/races/summary.csv?cycle=2020&id=AZ09',\n",
       " 'https://www.opensecrets.org/races/summary.csv?cycle=2020&id=AR04',\n",
       " 'https://www.opensecrets.org/races/summary.csv?cycle=2020&id=CA53',\n",
       " 'https://www.opensecrets.org/races/summary.csv?cycle=2020&id=CO07']"
      ]
     },
     "execution_count": 42,
     "metadata": {},
     "output_type": "execute_result"
    }
   ],
   "source": [
    "urls_st_dist = []\n",
    "\n",
    "#def add_to_url_begin(st_abbr):\n",
    "\n",
    "for i in range(0, len(dist_num)):\n",
    "    #dist_num[i]\n",
    "    urls_st_dist.append(urls_st[i] + dist_num[i])\n",
    "\n",
    "#add_to_url_begin(st_abbr)\n",
    "urls_st_dist[:6]"
   ]
  },
  {
   "cell_type": "code",
   "execution_count": 22,
   "id": "8017ea17-7281-4ea2-bc34-02cf7216e2cf",
   "metadata": {},
   "outputs": [],
   "source": [
    "#urls_st = []\n",
    "#urls_st_dist = []\n",
    "\n",
    "#def create_url_list(st_abbr, dist_num):\n",
    "#    for i in range(0, len(st_abbr)):\n",
    "#        urls_st.append(open_secrets_csv_url_base + st_abbr[i])\n",
    "#        for i in range(0, len(dist_num)):\n",
    "#            urls_st_dist.append(urls_st[i] + dist_num[i])\n",
    "#    return [i]\n",
    "\n",
    "#add_to_url_end(dist_num)\n",
    "#def build_url(base_url, **kwargs):\n",
    "#   \"\"\"Builds a URL with query parameters using f-string interpolation.\"\"\"\n",
    "#    for i in state_abbreviation:\n",
    "#        st = st_abbr \n",
    "#        f'{st}{dist}'\n",
    "#    dist = \n",
    "#    return f\"{base_url}={query_params}\" if query_params else base_url\n",
    "\n",
    "# Example usage\n",
    "#url = build_url(\"https://api.example.com/search\", q=\"python\", page=2)\n",
    "#print(url) \n",
    "\n",
    "#for i in range(0, len(st_abbr), len(dist_num)):\n",
    "#    dist = f'https://www.opensecrets.org/races/summary.csv?cycle=2020&id={st_abbr[i]}{dist_num[i]}'\n",
    "    \n",
    "#open_secrets_csv_url_base = f'https://www.opensecrets.org/races/summary.csv?cycle=2020&id='\n",
    "#open_secrets_csv_url_base\n"
   ]
  },
  {
   "cell_type": "code",
   "execution_count": null,
   "id": "e589b226-d788-4b5a-82b1-42a4ce2ae50b",
   "metadata": {},
   "outputs": [],
   "source": []
  },
  {
   "cell_type": "code",
   "execution_count": null,
   "id": "2e6ad380-a0ed-4894-bf32-70a72f7e116d",
   "metadata": {},
   "outputs": [],
   "source": []
  }
 ],
 "metadata": {
  "kernelspec": {
   "display_name": "Python 3 (ipykernel)",
   "language": "python",
   "name": "python3"
  },
  "language_info": {
   "codemirror_mode": {
    "name": "ipython",
    "version": 3
   },
   "file_extension": ".py",
   "mimetype": "text/x-python",
   "name": "python",
   "nbconvert_exporter": "python",
   "pygments_lexer": "ipython3",
   "version": "3.12.3"
  }
 },
 "nbformat": 4,
 "nbformat_minor": 5
}
